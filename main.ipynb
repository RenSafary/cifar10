{
 "cells": [
  {
   "cell_type": "code",
   "execution_count": 100,
   "metadata": {},
   "outputs": [],
   "source": [
    "import torch\n",
    "import torch.nn as nn\n",
    "import torch.nn.functional as F\n",
    "import torch.optim as optim\n",
    "from torchvision import datasets, transforms\n",
    "from torch.utils.data import DataLoader\n",
    "from PIL import Image\n",
    "import matplotlib.pyplot as plt"
   ]
  },
  {
   "cell_type": "code",
   "execution_count": 101,
   "metadata": {},
   "outputs": [
    {
     "name": "stdout",
     "output_type": "stream",
     "text": [
      "Downloading https://www.cs.toronto.edu/~kriz/cifar-10-python.tar.gz to ./data\\cifar-10-python.tar.gz\n"
     ]
    },
    {
     "name": "stderr",
     "output_type": "stream",
     "text": [
      "100%|██████████| 170498071/170498071 [02:20<00:00, 1212484.50it/s]\n"
     ]
    },
    {
     "name": "stdout",
     "output_type": "stream",
     "text": [
      "Extracting ./data\\cifar-10-python.tar.gz to ./data\n"
     ]
    }
   ],
   "source": [
    "transform = transforms.Compose([transforms.ToTensor(),\n",
    "                                transforms.RandomHorizontalFlip(), \n",
    "                                transforms.Normalize(mean=[0.5, 0.5, 0.5], std=[0.5, 0.5, 0.5])])\n",
    "trainset = datasets.CIFAR10(root=\"./data\", transform=transform, train=True, download=True)\n",
    "testset = datasets.CIFAR10(root=\"./data\", transform=transform, train=False, download=False)\n",
    " \n",
    "train_dataset = DataLoader(dataset=trainset, batch_size=100, shuffle=True)\n",
    "test_dataset = DataLoader(dataset=testset, batch_size=100, shuffle=False)"
   ]
  },
  {
   "cell_type": "code",
   "execution_count": 102,
   "metadata": {},
   "outputs": [],
   "source": [
    "class NeuralNet(nn.Module):\n",
    "  def __init__(self):\n",
    "    super(NeuralNet, self).__init__()\n",
    "    self.conv1 = nn.Conv2d(3, 6, 5) # 3-канал, 6 фильтров для входных данных, 5х5 ядро\n",
    "    self.pool = nn.MaxPool2d(2, 2) # подвыборка 2х2 пикселя из сверточного слоя\n",
    "    self.conv2 = nn.Conv2d(6, 16, 5) # 6 входных слоев и тд.\n",
    "    self.layer1 = nn.Linear(16 * 5 * 5, 128)\n",
    "    self.layer2 = nn.Linear(128, 64)\n",
    "    self.layer3 = nn.Linear(64, 10)\n",
    " \n",
    "  def forward(self, x):\n",
    "    x = self.pool(F.relu(self.conv1(x)))\n",
    "    x = self.pool(F.relu(self.conv2(x)))\n",
    "    x = x.view(-1, 16 * 5 * 5)\n",
    "    x = F.relu(self.layer1(x))\n",
    "    x = F.relu(self.layer2(x))\n",
    "    x = self.layer3(x)\n",
    "    return x"
   ]
  },
  {
   "cell_type": "code",
   "execution_count": 103,
   "metadata": {},
   "outputs": [],
   "source": [
    "model = NeuralNet()\n",
    " \n",
    "criterion = nn.CrossEntropyLoss()\n",
    "optimizer = optim.SGD(model.parameters(), lr=0.001, momentum=0.9) \n",
    "# momentum = 0.9 - инерция обновления весов для градиента, использование 90% обновленных весов для следующего обновления"
   ]
  },
  {
   "cell_type": "code",
   "execution_count": 104,
   "metadata": {},
   "outputs": [
    {
     "name": "stdout",
     "output_type": "stream",
     "text": [
      "Epoch: 5, Loss: 1.6818\n",
      "Epoch: 10, Loss: 1.4955\n",
      "Epoch: 15, Loss: 1.2665\n",
      "Epoch: 20, Loss: 1.3008\n"
     ]
    }
   ],
   "source": [
    "epochs = 20\n",
    " \n",
    "for epoch in range(epochs):\n",
    "  for inputs, labels in train_dataset:\n",
    "    optimizer.zero_grad()\n",
    "    prediction = model(inputs)\n",
    "    loss = criterion(prediction, labels)\n",
    "    loss.backward()\n",
    "    optimizer.step()\n",
    "  if (epoch + 1) % 5 == 0: print(f\"Epoch: {epoch + 1}, Loss: {loss.item():.4f}\")"
   ]
  },
  {
   "cell_type": "code",
   "execution_count": 105,
   "metadata": {},
   "outputs": [
    {
     "name": "stdout",
     "output_type": "stream",
     "text": [
      "Accuracy: 57.19%\n"
     ]
    }
   ],
   "source": [
    "correct = 0\n",
    "total = 0\n",
    "with torch.no_grad():\n",
    "    for inputs, labels in test_dataset:\n",
    "        prediction = model(inputs)\n",
    "        _, predicted = torch.max(prediction.data, 1)\n",
    "        total += labels.size(0)\n",
    "        correct += (predicted == labels).sum().item()\n",
    " \n",
    "\n",
    "print(f'Accuracy: {100 * correct / total}%') "
   ]
  },
  {
   "cell_type": "code",
   "execution_count": 106,
   "metadata": {},
   "outputs": [
    {
     "data": {
      "text/plain": [
       "'car'"
      ]
     },
     "execution_count": 106,
     "metadata": {},
     "output_type": "execute_result"
    }
   ],
   "source": [
    "classes = {\n",
    "    1:'airplane',\n",
    "    2:'car',\n",
    "    3:'bird',\n",
    "    4:'cat',\n",
    "    5:'deer',\n",
    "    6:'dog',\n",
    "    7:'frog',\n",
    "    8:'horse',\n",
    "    9:'ship',\n",
    "    10:'truck'\n",
    "}\n",
    "\n",
    "image = Image.open(\"./images/puppy.jpg\")\n",
    "transform = transforms.Compose([transforms.ToTensor(), transforms.Resize((32, 32))])\n",
    "\n",
    "image_tensor = transform(image)\n",
    "image_tensor = image_tensor.unsqueeze(0)\n",
    "\n",
    "predicted_class = model(image_tensor)\n",
    "_, predicted = torch.max(predicted_class, 1)\n",
    "\n",
    "classes.get(predicted.item()) # ???"
   ]
  },
  {
   "cell_type": "code",
   "execution_count": 107,
   "metadata": {},
   "outputs": [
    {
     "data": {
      "image/png": "[encoded data removed]",
      "text/plain": [
       "<Figure size 640x480 with 1 Axes>"
      ]
     },
     "metadata": {},
     "output_type": "display_data"
    }
   ],
   "source": [
    "image, label = testset[555]\n",
    "\n",
    "image = transforms.ToPILImage()(image)\n",
    "plt.imshow(image)\n",
    "plt.title(f\"{label}\")\n",
    "plt.show()"
   ]
  }
 ],
 "metadata": {
  "kernelspec": {
   "display_name": "Python 3",
   "language": "python",
   "name": "python3"
  },
  "language_info": {
   "codemirror_mode": {
    "name": "ipython",
    "version": 3
   },
   "file_extension": ".py",
   "mimetype": "text/x-python",
   "name": "python",
   "nbconvert_exporter": "python",
   "pygments_lexer": "ipython3",
   "version": "3.11.1"
  }
 },
 "nbformat": 4,
 "nbformat_minor": 2
}
